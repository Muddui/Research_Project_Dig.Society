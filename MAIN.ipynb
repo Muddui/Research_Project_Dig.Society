{
 "cells": [
  {
   "cell_type": "code",
   "execution_count": 1,
   "id": "6a955aed-96ef-4ac4-9880-7115810b6217",
   "metadata": {},
   "outputs": [
    {
     "name": "stdout",
     "output_type": "stream",
     "text": [
      "gensim version: 4.3.1\n"
     ]
    },
    {
     "name": "stderr",
     "output_type": "stream",
     "text": [
      "[nltk_data] Downloading package stopwords to\n",
      "[nltk_data]     C:\\Users\\mucki\\AppData\\Roaming\\nltk_data...\n",
      "[nltk_data]   Package stopwords is already up-to-date!\n"
     ]
    }
   ],
   "source": [
    "import pandas as pd\n",
    "import random\n",
    "import numpy as np\n",
    "import stopwords\n",
    "import requests\n",
    "\n",
    "from sklearn.metrics.pairwise import cosine_similarity\n",
    "from sklearn.feature_extraction.text import CountVectorizer, TfidfVectorizer\n",
    "\n",
    "import gensim\n",
    "import gensim.downloader as api\n",
    "from gensim import corpora\n",
    "from gensim import models\n",
    "from gensim.corpora import Dictionary\n",
    "from gensim.utils import simple_preprocess\n",
    "from gensim.models import TfidfModel\n",
    "from gensim.similarities import SparseTermSimilarityMatrix\n",
    "from gensim.similarities import WordEmbeddingSimilarityIndex\n",
    "\n",
    "from glob import glob\n",
    "from dateutil import parser\n",
    "from tqdm import tqdm\n",
    "from string import punctuation\n",
    "\n",
    "import nltk\n",
    "from nltk.tokenize import TreebankWordTokenizer\n",
    "nltk.download('stopwords')\n",
    "from nltk.corpus import stopwords\n",
    "\n",
    "import pyLDAvis\n",
    "import pyLDAvis.gensim_models as gensimvis\n",
    "\n",
    "print(f\"gensim version: {gensim.__version__}\")\n",
    "\n",
    "\n",
    "\n",
    "\n",
    "def df_expl (df):\n",
    "    desc = {\"Columns\": df.columns, \"Missing\": df.isna().sum(), \"D_Types\": df.dtypes, \"Shape\": df.shape}\n",
    "    return desc\n"
   ]
  },
  {
   "cell_type": "code",
   "execution_count": 2,
   "id": "ffbf9d35-543b-4892-be7a-ab352eeb4eaf",
   "metadata": {},
   "outputs": [],
   "source": [
    "# \"booksresults.xlsx\" has infrmation from Google Books API replacing missing info (used in CCS2)\n",
    "books = pd.read_excel(\"booksresults.xlsx\")\n"
   ]
  },
  {
   "cell_type": "code",
   "execution_count": 3,
   "id": "842d0df0-8be1-4a97-bdaa-c4d5bf17432d",
   "metadata": {},
   "outputs": [
    {
     "data": {
      "text/html": [
       "<div>\n",
       "<style scoped>\n",
       "    .dataframe tbody tr th:only-of-type {\n",
       "        vertical-align: middle;\n",
       "    }\n",
       "\n",
       "    .dataframe tbody tr th {\n",
       "        vertical-align: top;\n",
       "    }\n",
       "\n",
       "    .dataframe thead th {\n",
       "        text-align: right;\n",
       "    }\n",
       "</style>\n",
       "<table border=\"1\" class=\"dataframe\">\n",
       "  <thead>\n",
       "    <tr style=\"text-align: right;\">\n",
       "      <th></th>\n",
       "      <th>Unnamed: 0</th>\n",
       "      <th>title</th>\n",
       "      <th>author</th>\n",
       "      <th>rating</th>\n",
       "      <th>voters</th>\n",
       "      <th>price</th>\n",
       "      <th>currency</th>\n",
       "      <th>description</th>\n",
       "      <th>generes</th>\n",
       "      <th>single_genre</th>\n",
       "    </tr>\n",
       "  </thead>\n",
       "  <tbody>\n",
       "    <tr>\n",
       "      <th>0</th>\n",
       "      <td>0</td>\n",
       "      <td>Attack on Titan: Volume 13</td>\n",
       "      <td>Hajime Isayama</td>\n",
       "      <td>4.6</td>\n",
       "      <td>428.0</td>\n",
       "      <td>43.28</td>\n",
       "      <td>SAR</td>\n",
       "      <td>NO SAFE PLACE LEFT At great cost to the Garris...</td>\n",
       "      <td>comics,graphic novels</td>\n",
       "      <td>comics</td>\n",
       "    </tr>\n",
       "    <tr>\n",
       "      <th>0</th>\n",
       "      <td>0</td>\n",
       "      <td>Attack on Titan: Volume 13</td>\n",
       "      <td>Hajime Isayama</td>\n",
       "      <td>4.6</td>\n",
       "      <td>428.0</td>\n",
       "      <td>43.28</td>\n",
       "      <td>SAR</td>\n",
       "      <td>NO SAFE PLACE LEFT At great cost to the Garris...</td>\n",
       "      <td>comics,graphic novels</td>\n",
       "      <td>graphic novels</td>\n",
       "    </tr>\n",
       "    <tr>\n",
       "      <th>1</th>\n",
       "      <td>1</td>\n",
       "      <td>Antiques Roadkill: A Trash 'n' Treasures Mystery</td>\n",
       "      <td>Barbara Allan</td>\n",
       "      <td>3.3</td>\n",
       "      <td>23.0</td>\n",
       "      <td>26.15</td>\n",
       "      <td>SAR</td>\n",
       "      <td>Determined to make a new start in her quaint h...</td>\n",
       "      <td>fiction,mystery &amp;amp,detective,cozy,general</td>\n",
       "      <td>fiction</td>\n",
       "    </tr>\n",
       "    <tr>\n",
       "      <th>1</th>\n",
       "      <td>1</td>\n",
       "      <td>Antiques Roadkill: A Trash 'n' Treasures Mystery</td>\n",
       "      <td>Barbara Allan</td>\n",
       "      <td>3.3</td>\n",
       "      <td>23.0</td>\n",
       "      <td>26.15</td>\n",
       "      <td>SAR</td>\n",
       "      <td>Determined to make a new start in her quaint h...</td>\n",
       "      <td>fiction,mystery &amp;amp,detective,cozy,general</td>\n",
       "      <td>mystery &amp;amp</td>\n",
       "    </tr>\n",
       "    <tr>\n",
       "      <th>1</th>\n",
       "      <td>1</td>\n",
       "      <td>Antiques Roadkill: A Trash 'n' Treasures Mystery</td>\n",
       "      <td>Barbara Allan</td>\n",
       "      <td>3.3</td>\n",
       "      <td>23.0</td>\n",
       "      <td>26.15</td>\n",
       "      <td>SAR</td>\n",
       "      <td>Determined to make a new start in her quaint h...</td>\n",
       "      <td>fiction,mystery &amp;amp,detective,cozy,general</td>\n",
       "      <td>detective</td>\n",
       "    </tr>\n",
       "  </tbody>\n",
       "</table>\n",
       "</div>"
      ],
      "text/plain": [
       "   Unnamed: 0                                             title   \n",
       "0           0                        Attack on Titan: Volume 13  \\\n",
       "0           0                        Attack on Titan: Volume 13   \n",
       "1           1  Antiques Roadkill: A Trash 'n' Treasures Mystery   \n",
       "1           1  Antiques Roadkill: A Trash 'n' Treasures Mystery   \n",
       "1           1  Antiques Roadkill: A Trash 'n' Treasures Mystery   \n",
       "\n",
       "           author  rating  voters  price currency   \n",
       "0  Hajime Isayama     4.6   428.0  43.28      SAR  \\\n",
       "0  Hajime Isayama     4.6   428.0  43.28      SAR   \n",
       "1   Barbara Allan     3.3    23.0  26.15      SAR   \n",
       "1   Barbara Allan     3.3    23.0  26.15      SAR   \n",
       "1   Barbara Allan     3.3    23.0  26.15      SAR   \n",
       "\n",
       "                                         description   \n",
       "0  NO SAFE PLACE LEFT At great cost to the Garris...  \\\n",
       "0  NO SAFE PLACE LEFT At great cost to the Garris...   \n",
       "1  Determined to make a new start in her quaint h...   \n",
       "1  Determined to make a new start in her quaint h...   \n",
       "1  Determined to make a new start in her quaint h...   \n",
       "\n",
       "                                       generes    single_genre  \n",
       "0                        comics,graphic novels          comics  \n",
       "0                        comics,graphic novels  graphic novels  \n",
       "1  fiction,mystery &amp,detective,cozy,general         fiction  \n",
       "1  fiction,mystery &amp,detective,cozy,general    mystery &amp  \n",
       "1  fiction,mystery &amp,detective,cozy,general       detective  "
      ]
     },
     "execution_count": 3,
     "metadata": {},
     "output_type": "execute_result"
    }
   ],
   "source": [
    "# Convert 'generes' column to string of genres separated by comma\n",
    "books['generes'] = books['generes'].astype(str)\n",
    "books['generes'] = books['generes'].str.replace(',amp', '').replace('&amp', '').replace(' &', ',')\n",
    "for i in range(len(books)):\n",
    "    genres_list = books.loc[i, 'generes']\n",
    "    if isinstance(genres_list, str):\n",
    "        genres_list = genres_list.split(',')\n",
    "        genres_list = [genre.lower().strip() for genre in genres_list]\n",
    "        genres_str = ','.join(genres_list)\n",
    "        books.at[i, 'generes'] = genres_str\n",
    "        \n",
    "#split each genre into multiple single genres, each in their own row (see \"build_a_recommender\" for reference)\n",
    "s = books.apply(lambda x: pd.Series(x['generes'].split(',')), axis=1).stack().reset_index(level=1, drop=True)\n",
    "s.name = 'single_genre'\n",
    "books = books.join(s)\n",
    "\n",
    "# drop all unneccessary coulumns to reduce size\n",
    "books.drop(['year', 'published_date', 'ISBN', 'page_count', 'publisher', 'language'], axis=1, inplace=True)\n",
    "\n",
    "books.head()"
   ]
  },
  {
   "cell_type": "code",
   "execution_count": 4,
   "id": "396f4d03-3312-482a-86ea-a87a942d62e0",
   "metadata": {},
   "outputs": [],
   "source": [
    "# Convert values to float and drop missing values \n",
    "books['rating'] = books['rating'].astype(float).round(1)\n",
    "books['voters'] = books['voters'].astype(float).round(1)  \n",
    "books.dropna(subset = [\"voters\", \"rating\", \"description\"], inplace = True)\n"
   ]
  },
  {
   "cell_type": "code",
   "execution_count": 5,
   "id": "a08563b8-d066-4cb6-acbb-eb126e6dcda7",
   "metadata": {},
   "outputs": [],
   "source": [
    "# Filter by highest ranking/voter ratio\n",
    "\n",
    "books = books[books['voters'] >= 10]\n",
    "books['ratio'] = books['rating'] / books['voters']\n",
    "    "
   ]
  },
  {
   "cell_type": "code",
   "execution_count": 6,
   "id": "5abe60af-2d2b-47d9-ae03-07e90491a54f",
   "metadata": {},
   "outputs": [
    {
     "data": {
      "text/plain": [
       "{'Columns': Index(['Unnamed: 0', 'title', 'author', 'rating', 'voters', 'price',\n",
       "        'currency', 'description', 'generes', 'single_genre', 'ratio'],\n",
       "       dtype='object'),\n",
       " 'Missing': Unnamed: 0      0\n",
       " title           0\n",
       " author          0\n",
       " rating          0\n",
       " voters          0\n",
       " price           0\n",
       " currency        0\n",
       " description     0\n",
       " generes         0\n",
       " single_genre    0\n",
       " ratio           0\n",
       " dtype: int64,\n",
       " 'D_Types': Unnamed: 0        int64\n",
       " title            object\n",
       " author           object\n",
       " rating          float64\n",
       " voters          float64\n",
       " price           float64\n",
       " currency         object\n",
       " description      object\n",
       " generes          object\n",
       " single_genre     object\n",
       " ratio           float64\n",
       " dtype: object,\n",
       " 'Shape': (2233, 11)}"
      ]
     },
     "execution_count": 6,
     "metadata": {},
     "output_type": "execute_result"
    }
   ],
   "source": [
    "df_expl(books)"
   ]
  },
  {
   "cell_type": "code",
   "execution_count": 7,
   "id": "0d285df0-0d82-4cb8-bd50-38e73186d59e",
   "metadata": {},
   "outputs": [
    {
     "name": "stdout",
     "output_type": "stream",
     "text": [
      "The dataset currently contains 187 unique titles.\n"
     ]
    }
   ],
   "source": [
    "print(f\"The dataset currently contains {books['title'].nunique()} unique titles.\")"
   ]
  },
  {
   "cell_type": "code",
   "execution_count": 40,
   "id": "d7fad019-f50a-4e17-8b8b-07b7f7e0f6f6",
   "metadata": {
    "tags": []
   },
   "outputs": [],
   "source": [
    "def genre_filter (df: pd.DataFrame):\n",
    "    \n",
    "    while True:\n",
    "        user_genre=input(f\"Enter you favorite genre (leave blank to skip). \\n \\n Please choose from this available set:\\n \\n {set(df['single_genre'])}\").strip()\n",
    "\n",
    "        if user_genre == \"\":\n",
    "            print(\"No input. Skip to next step\")\n",
    "            genre_books=df\n",
    "            \n",
    "            break\n",
    "        \n",
    "        else:\n",
    "            try:\n",
    "                \n",
    "                # Check if user_genre is included in the single_genre column of timed_books dataframe\n",
    "                genre_books = df[df['single_genre'] == user_genre]\n",
    "                print(f\"You have chosen books from the genre: {genre_books['single_genre'].unique()}.\")\n",
    "                \n",
    "                break\n",
    "        \n",
    "            except ValueError:\n",
    "                print(\"Invalid input! Please choose from the available list.\")\n",
    "\n",
    "    genre_books.drop_duplicates(subset=['title', 'description'], inplace=True)\n",
    "    genre_books.sort_values(by = 'ratio', inplace = True)\n",
    "    genre_books.to_excel(\"genrebooks.xlsx\")\n",
    "    \n",
    "    if len(genre_books) < 1:\n",
    "            print(\"There are no books available in the specified genre! The whole dataset will be used.\")\n",
    "            genre_books = df\n",
    "                              \n",
    "    print(f\"{len(genre_books['title'].unique())} are remaining in the filtered dataset. \\n\")\n",
    "\n",
    "    return genre_books\n",
    "\n"
   ]
  },
  {
   "cell_type": "code",
   "execution_count": 41,
   "id": "a63e95aa-bf7c-42cb-9d81-607da9897ff1",
   "metadata": {},
   "outputs": [
    {
     "name": "stdin",
     "output_type": "stream",
     "text": [
      "Enter you favorite genre (leave blank to skip). \n",
      " \n",
      " Please choose from this available set:\n",
      " \n",
      " {'american', 'development', 'philosophy', 'traditional', 'fitness', 'self-help', 'organizational behavior', 'securities', 'new thought', 'dark fantasy', 'science fiction', 'psychology', 'promotion', 'detective', 'entrepreneurship', 'cognition', 'corporate &amp', 'physiological psychology', 'social themes', 'movements', 'medical', 'alternative history', 'communication &amp', 'brain', 'comics &amp', 'friendship', 'legends &amp', 'bombay (india)', 'legal', 'adventure', 'video &amp', 'social activists', 'online trading', 'fantasy fiction', 'business', 'cognitive psychology &amp', 'classics', 'general', 'popular culture', 'superheroes', 'manga', 'historical', 'horror', 'healthy living', 'body', 'industries', 'personal growth', 'humorous stories', 'coming of age', 'personnel management', 'mystery & detective', 'juvenile fiction', 'spirit', 'police procedural', 'medical (incl. patients)', 'electronic', 'professional', 'mind', 'autobiography', 'advertising &amp', 'family &amp', 'fairy tales &amp', 'boston (mass.)', 'theory', 'leadership', 'marketing', 'magic', 'inspirational', 'inspiration &amp', 'stocks', 'neuropsychology', 'relationships', 'women sleuths', 'health &amp', 'curiosities &amp', 'motivational', 'dragons &amp', 'computers', 'social science', 'personal success', 'political ideologies', 'biography &amp', 'topic', 'creative ability', 'information technology', 'fantasy &amp', 'gay', '20th century', 'money management', 'internet marketing', 'e-commerce', 'strategy', 'mythology', 'drama', 'fiction', 'motivation (psychology)', 'feminist theory', 'cozy', 'finance', 'animals', 'entertainment', 'space opera', 'mystery &amp', 'action &amp', 'technological', 'cartoons', 'self-esteem', 'media tie-in', 'literary collections', 'international mystery &amp', 'gender studies', 'comic strips &amp', 'technology', 'science &amp', 'rich &amp', 'military', 'contemporary', 'human resources &amp', 'small town &amp', 'reformation', 'civics &amp', 'comics', 'feminism &amp', 'self-confidence', 'modern', 'management', 'investing', 'literary figures', 'folk tales', 'time management', 'wonders', 'history', 'mental health', 'supernatural', 'private investigators', 'family', 'business history', 'stress management', 'consumer behavior', 'anthologies', 'letters', 'fairy tales', 'form', 'lgbt', 'fantasy', 'comics & graphic novels', 'economics', 'paranormal', 'computers &amp', 'physicians', 'new business enterprises', 'urban', 'dystopian', 'crime', 'success', 'mythical creatures', 'famous', 'terrorism', 'collections &amp', 'war &amp', 'political science', 'business development', 'health', 'social skills', 'young adult fiction', 'citizenship', 'assassination', 'social media', 'motivational &amp', 'juvenile nonfiction', 'mind &amp', 'thrillers', 'health care delivery', 'social psychology', 'reference', 'suspense', 'biography', 'psychoanalysis', 'games &amp', 'business &amp', 'public finance', 'poetry', 'women', 'essays', 'humor', 'satire', 'investments &amp', 'political', 'literary', 'sociology', 'skills', 'folklore', 'self-management', 'personal memoirs', 'interpersonal relations', 'epic', 'nan', 'amateur sleuth', 'psychological', 'hard-boiled', 'rural', 'web', 'budgeting', 'graphic novels', 'alien contact', 'personal finance', 'humorous', 'activities'} fantasy\n"
     ]
    },
    {
     "name": "stdout",
     "output_type": "stream",
     "text": [
      "You have chosen books from the genre: ['fantasy'].\n",
      "40 are remaining in the filtered dataset. \n",
      "\n"
     ]
    },
    {
     "name": "stderr",
     "output_type": "stream",
     "text": [
      "C:\\Users\\mucki\\AppData\\Local\\Temp\\ipykernel_7064\\1397825840.py:24: SettingWithCopyWarning: \n",
      "A value is trying to be set on a copy of a slice from a DataFrame\n",
      "\n",
      "See the caveats in the documentation: https://pandas.pydata.org/pandas-docs/stable/user_guide/indexing.html#returning-a-view-versus-a-copy\n",
      "  genre_books.drop_duplicates(subset=['title', 'description'], inplace=True)\n",
      "C:\\Users\\mucki\\AppData\\Local\\Temp\\ipykernel_7064\\1397825840.py:25: SettingWithCopyWarning: \n",
      "A value is trying to be set on a copy of a slice from a DataFrame\n",
      "\n",
      "See the caveats in the documentation: https://pandas.pydata.org/pandas-docs/stable/user_guide/indexing.html#returning-a-view-versus-a-copy\n",
      "  genre_books.sort_values(by = 'ratio', inplace = True)\n"
     ]
    }
   ],
   "source": [
    "# Call the function with 'fantasy' \n",
    "fantasy = genre_filter(books)"
   ]
  },
  {
   "cell_type": "code",
   "execution_count": 42,
   "id": "f53f2048-82e9-4fb9-8828-de6314c540bd",
   "metadata": {},
   "outputs": [
    {
     "name": "stdin",
     "output_type": "stream",
     "text": [
      "Enter you favorite genre (leave blank to skip). \n",
      " \n",
      " Please choose from this available set:\n",
      " \n",
      " {'american', 'development', 'philosophy', 'traditional', 'fitness', 'self-help', 'organizational behavior', 'securities', 'new thought', 'dark fantasy', 'science fiction', 'psychology', 'promotion', 'detective', 'entrepreneurship', 'cognition', 'corporate &amp', 'physiological psychology', 'social themes', 'movements', 'medical', 'alternative history', 'communication &amp', 'brain', 'comics &amp', 'friendship', 'legends &amp', 'bombay (india)', 'legal', 'adventure', 'video &amp', 'social activists', 'online trading', 'fantasy fiction', 'business', 'cognitive psychology &amp', 'classics', 'general', 'popular culture', 'superheroes', 'manga', 'historical', 'horror', 'healthy living', 'body', 'industries', 'personal growth', 'humorous stories', 'coming of age', 'personnel management', 'mystery & detective', 'juvenile fiction', 'spirit', 'police procedural', 'medical (incl. patients)', 'electronic', 'professional', 'mind', 'autobiography', 'advertising &amp', 'family &amp', 'fairy tales &amp', 'boston (mass.)', 'theory', 'leadership', 'marketing', 'magic', 'inspirational', 'inspiration &amp', 'stocks', 'neuropsychology', 'relationships', 'women sleuths', 'health &amp', 'curiosities &amp', 'motivational', 'dragons &amp', 'computers', 'social science', 'personal success', 'political ideologies', 'biography &amp', 'topic', 'creative ability', 'information technology', 'fantasy &amp', 'gay', '20th century', 'money management', 'internet marketing', 'e-commerce', 'strategy', 'mythology', 'drama', 'fiction', 'motivation (psychology)', 'feminist theory', 'cozy', 'finance', 'animals', 'entertainment', 'space opera', 'mystery &amp', 'action &amp', 'technological', 'cartoons', 'self-esteem', 'media tie-in', 'literary collections', 'international mystery &amp', 'gender studies', 'comic strips &amp', 'technology', 'science &amp', 'rich &amp', 'military', 'contemporary', 'human resources &amp', 'small town &amp', 'reformation', 'civics &amp', 'comics', 'feminism &amp', 'self-confidence', 'modern', 'management', 'investing', 'literary figures', 'folk tales', 'time management', 'wonders', 'history', 'mental health', 'supernatural', 'private investigators', 'family', 'business history', 'stress management', 'consumer behavior', 'anthologies', 'letters', 'fairy tales', 'form', 'lgbt', 'fantasy', 'comics & graphic novels', 'economics', 'paranormal', 'computers &amp', 'physicians', 'new business enterprises', 'urban', 'dystopian', 'crime', 'success', 'mythical creatures', 'famous', 'terrorism', 'collections &amp', 'war &amp', 'political science', 'business development', 'health', 'social skills', 'young adult fiction', 'citizenship', 'assassination', 'social media', 'motivational &amp', 'juvenile nonfiction', 'mind &amp', 'thrillers', 'health care delivery', 'social psychology', 'reference', 'suspense', 'biography', 'psychoanalysis', 'games &amp', 'business &amp', 'public finance', 'poetry', 'women', 'essays', 'humor', 'satire', 'investments &amp', 'political', 'literary', 'sociology', 'skills', 'folklore', 'self-management', 'personal memoirs', 'interpersonal relations', 'epic', 'nan', 'amateur sleuth', 'psychological', 'hard-boiled', 'rural', 'web', 'budgeting', 'graphic novels', 'alien contact', 'personal finance', 'humorous', 'activities'} horror\n"
     ]
    },
    {
     "name": "stdout",
     "output_type": "stream",
     "text": [
      "You have chosen books from the genre: ['horror'].\n",
      "7 are remaining in the filtered dataset. \n",
      "\n"
     ]
    },
    {
     "name": "stderr",
     "output_type": "stream",
     "text": [
      "C:\\Users\\mucki\\AppData\\Local\\Temp\\ipykernel_7064\\1397825840.py:24: SettingWithCopyWarning: \n",
      "A value is trying to be set on a copy of a slice from a DataFrame\n",
      "\n",
      "See the caveats in the documentation: https://pandas.pydata.org/pandas-docs/stable/user_guide/indexing.html#returning-a-view-versus-a-copy\n",
      "  genre_books.drop_duplicates(subset=['title', 'description'], inplace=True)\n",
      "C:\\Users\\mucki\\AppData\\Local\\Temp\\ipykernel_7064\\1397825840.py:25: SettingWithCopyWarning: \n",
      "A value is trying to be set on a copy of a slice from a DataFrame\n",
      "\n",
      "See the caveats in the documentation: https://pandas.pydata.org/pandas-docs/stable/user_guide/indexing.html#returning-a-view-versus-a-copy\n",
      "  genre_books.sort_values(by = 'ratio', inplace = True)\n"
     ]
    }
   ],
   "source": [
    "# Call the function with 'horror'\n",
    "horror = genre_filter(books)"
   ]
  },
  {
   "cell_type": "code",
   "execution_count": 43,
   "id": "88d63bce-d8a6-4789-9319-87372dbeb0df",
   "metadata": {},
   "outputs": [
    {
     "name": "stdin",
     "output_type": "stream",
     "text": [
      "Enter you favorite genre (leave blank to skip). \n",
      " \n",
      " Please choose from this available set:\n",
      " \n",
      " {'american', 'development', 'philosophy', 'traditional', 'fitness', 'self-help', 'organizational behavior', 'securities', 'new thought', 'dark fantasy', 'science fiction', 'psychology', 'promotion', 'detective', 'entrepreneurship', 'cognition', 'corporate &amp', 'physiological psychology', 'social themes', 'movements', 'medical', 'alternative history', 'communication &amp', 'brain', 'comics &amp', 'friendship', 'legends &amp', 'bombay (india)', 'legal', 'adventure', 'video &amp', 'social activists', 'online trading', 'fantasy fiction', 'business', 'cognitive psychology &amp', 'classics', 'general', 'popular culture', 'superheroes', 'manga', 'historical', 'horror', 'healthy living', 'body', 'industries', 'personal growth', 'humorous stories', 'coming of age', 'personnel management', 'mystery & detective', 'juvenile fiction', 'spirit', 'police procedural', 'medical (incl. patients)', 'electronic', 'professional', 'mind', 'autobiography', 'advertising &amp', 'family &amp', 'fairy tales &amp', 'boston (mass.)', 'theory', 'leadership', 'marketing', 'magic', 'inspirational', 'inspiration &amp', 'stocks', 'neuropsychology', 'relationships', 'women sleuths', 'health &amp', 'curiosities &amp', 'motivational', 'dragons &amp', 'computers', 'social science', 'personal success', 'political ideologies', 'biography &amp', 'topic', 'creative ability', 'information technology', 'fantasy &amp', 'gay', '20th century', 'money management', 'internet marketing', 'e-commerce', 'strategy', 'mythology', 'drama', 'fiction', 'motivation (psychology)', 'feminist theory', 'cozy', 'finance', 'animals', 'entertainment', 'space opera', 'mystery &amp', 'action &amp', 'technological', 'cartoons', 'self-esteem', 'media tie-in', 'literary collections', 'international mystery &amp', 'gender studies', 'comic strips &amp', 'technology', 'science &amp', 'rich &amp', 'military', 'contemporary', 'human resources &amp', 'small town &amp', 'reformation', 'civics &amp', 'comics', 'feminism &amp', 'self-confidence', 'modern', 'management', 'investing', 'literary figures', 'folk tales', 'time management', 'wonders', 'history', 'mental health', 'supernatural', 'private investigators', 'family', 'business history', 'stress management', 'consumer behavior', 'anthologies', 'letters', 'fairy tales', 'form', 'lgbt', 'fantasy', 'comics & graphic novels', 'economics', 'paranormal', 'computers &amp', 'physicians', 'new business enterprises', 'urban', 'dystopian', 'crime', 'success', 'mythical creatures', 'famous', 'terrorism', 'collections &amp', 'war &amp', 'political science', 'business development', 'health', 'social skills', 'young adult fiction', 'citizenship', 'assassination', 'social media', 'motivational &amp', 'juvenile nonfiction', 'mind &amp', 'thrillers', 'health care delivery', 'social psychology', 'reference', 'suspense', 'biography', 'psychoanalysis', 'games &amp', 'business &amp', 'public finance', 'poetry', 'women', 'essays', 'humor', 'satire', 'investments &amp', 'political', 'literary', 'sociology', 'skills', 'folklore', 'self-management', 'personal memoirs', 'interpersonal relations', 'epic', 'nan', 'amateur sleuth', 'psychological', 'hard-boiled', 'rural', 'web', 'budgeting', 'graphic novels', 'alien contact', 'personal finance', 'humorous', 'activities'} political\n"
     ]
    },
    {
     "name": "stdout",
     "output_type": "stream",
     "text": [
      "You have chosen books from the genre: ['political'].\n",
      "1 are remaining in the filtered dataset. \n",
      "\n"
     ]
    },
    {
     "name": "stderr",
     "output_type": "stream",
     "text": [
      "C:\\Users\\mucki\\AppData\\Local\\Temp\\ipykernel_7064\\1397825840.py:24: SettingWithCopyWarning: \n",
      "A value is trying to be set on a copy of a slice from a DataFrame\n",
      "\n",
      "See the caveats in the documentation: https://pandas.pydata.org/pandas-docs/stable/user_guide/indexing.html#returning-a-view-versus-a-copy\n",
      "  genre_books.drop_duplicates(subset=['title', 'description'], inplace=True)\n",
      "C:\\Users\\mucki\\AppData\\Local\\Temp\\ipykernel_7064\\1397825840.py:25: SettingWithCopyWarning: \n",
      "A value is trying to be set on a copy of a slice from a DataFrame\n",
      "\n",
      "See the caveats in the documentation: https://pandas.pydata.org/pandas-docs/stable/user_guide/indexing.html#returning-a-view-versus-a-copy\n",
      "  genre_books.sort_values(by = 'ratio', inplace = True)\n"
     ]
    }
   ],
   "source": [
    "# Call the function with 'political'\n",
    "political = genre_filter(books)"
   ]
  },
  {
   "cell_type": "code",
   "execution_count": 44,
   "id": "6dcd5604-2269-4ce6-b53f-bc3f9a9d435f",
   "metadata": {},
   "outputs": [
    {
     "name": "stdout",
     "output_type": "stream",
     "text": [
      "The top books per category are: \n",
      "\n",
      " Fantasy:       Unnamed: 0                                              title   \n",
      "69            69  A Game of Thrones: A Song of Ice and Fire: Boo...  \\\n",
      "117          117  The Name of the Wind: The Kingkiller Chronicle...   \n",
      "285          285  Mistborn Trilogy: The Final Empire, The Well o...   \n",
      "733          733  A Dance with Dragons: A Song of Ice and Fire: ...   \n",
      "1190        1190  The Eye of the World: Book One of 'The Wheel o...   \n",
      "\n",
      "                   author  rating   voters  price currency   \n",
      "69    George R. R. Martin     4.6  10650.0  39.34      SAR  \\\n",
      "117      Patrick Rothfuss     4.3   4683.0  51.16      SAR   \n",
      "285     Brandon Sanderson     4.7   2700.0  66.12      SAR   \n",
      "733   George R. R. Martin     4.5   1799.0  39.34      SAR   \n",
      "1190        Robert Jordan     4.7   1780.0  36.79      SAR   \n",
      "\n",
      "                                            description   \n",
      "69    NOW THE ACCLAIMED HBO SERIES GAME OF THRONES—T...  \\\n",
      "117   'I have stolen princesses back from sleeping b...   \n",
      "285   This discounted ebundle includes: Mistborn: Th...   \n",
      "733   #1 NEW YORK TIMES BESTSELLER • THE BOOK BEHIND...   \n",
      "1190  The Wheel of Time ® is a PBS Great American Re...   \n",
      "\n",
      "                    generes single_genre     ratio  \n",
      "69     fiction,fantasy,epic      fantasy  0.000432  \n",
      "117   fiction,fantasy,urban      fantasy  0.000918  \n",
      "285    fiction,fantasy,epic      fantasy  0.001741  \n",
      "733    fiction,fantasy,epic      fantasy  0.002501  \n",
      "1190   fiction,fantasy,epic      fantasy  0.002640   \n",
      "\n",
      " Horror:       Unnamed: 0                                       title           author   \n",
      "882          882              The Walking Dead: Compendium 1   Robert Kirkman  \\\n",
      "190          190                                          It     Stephen King   \n",
      "1287        1287  Darksiders: The Abomination Vault: A Novel      Ari Marmell   \n",
      "1068        1068                                'Salem's Lot     Stephen King   \n",
      "1139        1139    The Mysterious Affair at Styles (Poirot)  Agatha Christie   \n",
      "\n",
      "      rating  voters   price currency   \n",
      "882      4.5  4533.0  157.49      SAR  \\\n",
      "190      4.5  4260.0   19.65      SAR   \n",
      "1287     4.5   485.0   57.30      SAR   \n",
      "1068     4.4   247.0   55.10      SAR   \n",
      "1139     4.6    57.0   19.28      SAR   \n",
      "\n",
      "                                            description   \n",
      "882   The Walking Dead Compendium Vol. 1 is here, co...  \\\n",
      "190   It: Chapter Two—now a major motion picture!\\n ...   \n",
      "1287  Ride with the Horsemen of the Apocalypse as th...   \n",
      "1068  'Turn off the television - in fact, why don't ...   \n",
      "1139  Agatha Christie’s first ever murder mystery. W...   \n",
      "\n",
      "                                generes single_genre     ratio  \n",
      "882   comics &amp,graphic novels,horror       horror  0.000993  \n",
      "190                      fiction,horror       horror  0.001056  \n",
      "1287                     fiction,horror       horror  0.009278  \n",
      "1068                     fiction,horror       horror  0.017814  \n",
      "1139                     fiction,horror       horror  0.080702   \n",
      "\n",
      " Political      Unnamed: 0                         title          author  rating  voters   \n",
      "401         401  Shall We Tell the President?  Jeffrey Archer     4.5    47.0  \\\n",
      "\n",
      "     price currency                                        description   \n",
      "401  41.82      SAR  Shall We Tell the President is an enthralling,...  \\\n",
      "\n",
      "                         generes single_genre     ratio  \n",
      "401  fiction,thrillers,political    political  0.095745  \n"
     ]
    }
   ],
   "source": [
    "# Results (that will be improved ;D)\n",
    "print(f\"The top books per category are: \\n\\n Fantasy: {fantasy[:5]} \\n\\n Horror: {horror[:5]} \\n\\n Political {political[:5]}\")"
   ]
  },
  {
   "cell_type": "code",
   "execution_count": null,
   "id": "3c6b0d0a-3220-48e7-bea7-94faa14c8498",
   "metadata": {},
   "outputs": [],
   "source": []
  }
 ],
 "metadata": {
  "kernelspec": {
   "display_name": "Python 3 (ipykernel)",
   "language": "python",
   "name": "python3"
  },
  "language_info": {
   "codemirror_mode": {
    "name": "ipython",
    "version": 3
   },
   "file_extension": ".py",
   "mimetype": "text/x-python",
   "name": "python",
   "nbconvert_exporter": "python",
   "pygments_lexer": "ipython3",
   "version": "3.9.13"
  }
 },
 "nbformat": 4,
 "nbformat_minor": 5
}
